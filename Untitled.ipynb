{
 "cells": [
  {
   "cell_type": "code",
   "execution_count": 11,
   "id": "34d250ec",
   "metadata": {},
   "outputs": [],
   "source": [
    "import numpy as np\n",
    "import pandas as pd\n",
    "import matplotlib.pyplot as plt\n",
    "from sklearn.preprocessing import MinMaxScaler\n",
    "from keras.models import Sequential\n",
    "from keras.layers import Dense,LSTM,Dropout"
   ]
  },
  {
   "cell_type": "code",
   "execution_count": 13,
   "id": "ff0dbb01",
   "metadata": {},
   "outputs": [
    {
     "data": {
      "text/html": [
       "<div>\n",
       "<style scoped>\n",
       "    .dataframe tbody tr th:only-of-type {\n",
       "        vertical-align: middle;\n",
       "    }\n",
       "\n",
       "    .dataframe tbody tr th {\n",
       "        vertical-align: top;\n",
       "    }\n",
       "\n",
       "    .dataframe thead th {\n",
       "        text-align: right;\n",
       "    }\n",
       "</style>\n",
       "<table border=\"1\" class=\"dataframe\">\n",
       "  <thead>\n",
       "    <tr style=\"text-align: right;\">\n",
       "      <th></th>\n",
       "      <th>Date</th>\n",
       "      <th>Open</th>\n",
       "      <th>High</th>\n",
       "      <th>Low</th>\n",
       "      <th>Close</th>\n",
       "      <th>Volume</th>\n",
       "    </tr>\n",
       "  </thead>\n",
       "  <tbody>\n",
       "    <tr>\n",
       "      <th>0</th>\n",
       "      <td>1/3/2012</td>\n",
       "      <td>325.25</td>\n",
       "      <td>332.83</td>\n",
       "      <td>324.97</td>\n",
       "      <td>663.59</td>\n",
       "      <td>7,380,500</td>\n",
       "    </tr>\n",
       "    <tr>\n",
       "      <th>1</th>\n",
       "      <td>1/4/2012</td>\n",
       "      <td>331.27</td>\n",
       "      <td>333.87</td>\n",
       "      <td>329.08</td>\n",
       "      <td>666.45</td>\n",
       "      <td>5,749,400</td>\n",
       "    </tr>\n",
       "    <tr>\n",
       "      <th>2</th>\n",
       "      <td>1/5/2012</td>\n",
       "      <td>329.83</td>\n",
       "      <td>330.75</td>\n",
       "      <td>326.89</td>\n",
       "      <td>657.21</td>\n",
       "      <td>6,590,300</td>\n",
       "    </tr>\n",
       "    <tr>\n",
       "      <th>3</th>\n",
       "      <td>1/6/2012</td>\n",
       "      <td>328.34</td>\n",
       "      <td>328.77</td>\n",
       "      <td>323.68</td>\n",
       "      <td>648.24</td>\n",
       "      <td>5,405,900</td>\n",
       "    </tr>\n",
       "    <tr>\n",
       "      <th>4</th>\n",
       "      <td>1/9/2012</td>\n",
       "      <td>322.04</td>\n",
       "      <td>322.29</td>\n",
       "      <td>309.46</td>\n",
       "      <td>620.76</td>\n",
       "      <td>11,688,800</td>\n",
       "    </tr>\n",
       "  </tbody>\n",
       "</table>\n",
       "</div>"
      ],
      "text/plain": [
       "       Date    Open    High     Low   Close      Volume\n",
       "0  1/3/2012  325.25  332.83  324.97  663.59   7,380,500\n",
       "1  1/4/2012  331.27  333.87  329.08  666.45   5,749,400\n",
       "2  1/5/2012  329.83  330.75  326.89  657.21   6,590,300\n",
       "3  1/6/2012  328.34  328.77  323.68  648.24   5,405,900\n",
       "4  1/9/2012  322.04  322.29  309.46  620.76  11,688,800"
      ]
     },
     "execution_count": 13,
     "metadata": {},
     "output_type": "execute_result"
    }
   ],
   "source": [
    "data=pd.read_csv('Google_train_data.csv')\n",
    "data.head()"
   ]
  },
  {
   "cell_type": "code",
   "execution_count": 10,
   "id": "d7dea111",
   "metadata": {},
   "outputs": [
    {
     "name": "stdout",
     "output_type": "stream",
     "text": [
      "<class 'pandas.core.frame.DataFrame'>\n",
      "RangeIndex: 1258 entries, 0 to 1257\n",
      "Data columns (total 6 columns):\n",
      " #   Column  Non-Null Count  Dtype  \n",
      "---  ------  --------------  -----  \n",
      " 0   Date    1258 non-null   object \n",
      " 1   Open    1258 non-null   float64\n",
      " 2   High    1258 non-null   float64\n",
      " 3   Low     1258 non-null   float64\n",
      " 4   Close   1258 non-null   object \n",
      " 5   Volume  1258 non-null   object \n",
      "dtypes: float64(3), object(3)\n",
      "memory usage: 59.1+ KB\n"
     ]
    }
   ],
   "source": [
    "data.info()"
   ]
  },
  {
   "cell_type": "code",
   "execution_count": 15,
   "id": "7e9e75fe",
   "metadata": {},
   "outputs": [],
   "source": [
    "data[\"Close\"]=pd.to_numeric(data.Close,errors='coerce')\n",
    "data=data.dropna()\n",
    "trainData = data.iloc[:,4:5].values"
   ]
  },
  {
   "cell_type": "code",
   "execution_count": 16,
   "id": "e20aefa0",
   "metadata": {},
   "outputs": [
    {
     "name": "stdout",
     "output_type": "stream",
     "text": [
      "<class 'pandas.core.frame.DataFrame'>\n",
      "Int64Index: 1149 entries, 0 to 1257\n",
      "Data columns (total 6 columns):\n",
      " #   Column  Non-Null Count  Dtype  \n",
      "---  ------  --------------  -----  \n",
      " 0   Date    1149 non-null   object \n",
      " 1   Open    1149 non-null   float64\n",
      " 2   High    1149 non-null   float64\n",
      " 3   Low     1149 non-null   float64\n",
      " 4   Close   1149 non-null   float64\n",
      " 5   Volume  1149 non-null   object \n",
      "dtypes: float64(4), object(2)\n",
      "memory usage: 62.8+ KB\n"
     ]
    }
   ],
   "source": [
    "data.info()"
   ]
  },
  {
   "cell_type": "code",
   "execution_count": 17,
   "id": "8c84572d",
   "metadata": {},
   "outputs": [
    {
     "data": {
      "text/plain": [
       "(1149, 1)"
      ]
     },
     "execution_count": 17,
     "metadata": {},
     "output_type": "execute_result"
    }
   ],
   "source": [
    "sc=MinMaxScaler(feature_range=(0,1))\n",
    "trainData = sc.fit_transform(trainData)\n",
    "trainData.shape"
   ]
  },
  {
   "cell_type": "code",
   "execution_count": 18,
   "id": "fbbe9a0e",
   "metadata": {},
   "outputs": [],
   "source": [
    "X_train=[]\n",
    "y_train=[]\n",
    "\n",
    "for i in range(60,1149):\n",
    "    X_train.append(trainData[i-60:i,0])\n",
    "    y_train.append(trainData[i,0])\n",
    "    \n",
    "X_train,y_train = np.array(X_train),np.array(y_train)\n"
   ]
  },
  {
   "cell_type": "code",
   "execution_count": 19,
   "id": "8df9004b",
   "metadata": {},
   "outputs": [
    {
     "data": {
      "text/plain": [
       "(1089, 60, 1)"
      ]
     },
     "execution_count": 19,
     "metadata": {},
     "output_type": "execute_result"
    }
   ],
   "source": [
    "X_train = np.reshape(X_train,(X_train.shape[0],X_train.shape[1],1))\n",
    "X_train.shape"
   ]
  },
  {
   "cell_type": "code",
   "execution_count": 20,
   "id": "a67a674e",
   "metadata": {},
   "outputs": [],
   "source": [
    "model= Sequential()\n",
    "\n",
    "model.add(LSTM(units=100, return_sequences = True,input_shape =(X_train.shape[1],1)))\n",
    "model.add(Dropout(0.2))\n",
    "\n",
    "model.add(LSTM(units=100,return_sequences =True))\n",
    "model.add(Dropout(0.2))\n",
    "\n",
    "model.add(LSTM(units=100,return_sequences =True))\n",
    "model.add(Dropout(0.2))\n",
    "\n",
    "model.add(LSTM(units=100,return_sequences =False))\n",
    "model.add(Dropout(0.2))\n",
    "\n",
    "model.add(Dense(units =1))\n",
    "model.compile(optimizer='adam',loss=\"mean_squared_error\")"
   ]
  },
  {
   "cell_type": "code",
   "execution_count": 24,
   "id": "725abe82",
   "metadata": {},
   "outputs": [
    {
     "name": "stdout",
     "output_type": "stream",
     "text": [
      "Epoch 1/20\n",
      "35/35 - 5s - loss: 0.0029 - 5s/epoch - 156ms/step\n",
      "Epoch 2/20\n",
      "35/35 - 5s - loss: 0.0029 - 5s/epoch - 154ms/step\n",
      "Epoch 3/20\n",
      "35/35 - 5s - loss: 0.0028 - 5s/epoch - 155ms/step\n",
      "Epoch 4/20\n",
      "35/35 - 6s - loss: 0.0027 - 6s/epoch - 158ms/step\n",
      "Epoch 5/20\n",
      "35/35 - 6s - loss: 0.0030 - 6s/epoch - 159ms/step\n",
      "Epoch 6/20\n",
      "35/35 - 6s - loss: 0.0025 - 6s/epoch - 168ms/step\n",
      "Epoch 7/20\n",
      "35/35 - 6s - loss: 0.0024 - 6s/epoch - 159ms/step\n",
      "Epoch 8/20\n",
      "35/35 - 6s - loss: 0.0028 - 6s/epoch - 160ms/step\n",
      "Epoch 9/20\n",
      "35/35 - 6s - loss: 0.0047 - 6s/epoch - 157ms/step\n",
      "Epoch 10/20\n",
      "35/35 - 6s - loss: 0.0030 - 6s/epoch - 158ms/step\n",
      "Epoch 11/20\n",
      "35/35 - 6s - loss: 0.0026 - 6s/epoch - 159ms/step\n",
      "Epoch 12/20\n",
      "35/35 - 6s - loss: 0.0026 - 6s/epoch - 159ms/step\n",
      "Epoch 13/20\n",
      "35/35 - 6s - loss: 0.0026 - 6s/epoch - 177ms/step\n",
      "Epoch 14/20\n",
      "35/35 - 6s - loss: 0.0031 - 6s/epoch - 166ms/step\n",
      "Epoch 15/20\n",
      "35/35 - 6s - loss: 0.0034 - 6s/epoch - 172ms/step\n",
      "Epoch 16/20\n",
      "35/35 - 6s - loss: 0.0026 - 6s/epoch - 163ms/step\n",
      "Epoch 17/20\n",
      "35/35 - 6s - loss: 0.0027 - 6s/epoch - 160ms/step\n",
      "Epoch 18/20\n",
      "35/35 - 6s - loss: 0.0024 - 6s/epoch - 160ms/step\n",
      "Epoch 19/20\n",
      "35/35 - 6s - loss: 0.0028 - 6s/epoch - 161ms/step\n",
      "Epoch 20/20\n",
      "35/35 - 6s - loss: 0.0025 - 6s/epoch - 159ms/step\n"
     ]
    }
   ],
   "source": [
    "hist= model.fit(X_train, y_train, epochs = 20, batch_size = 32,verbose=2)"
   ]
  },
  {
   "cell_type": "code",
   "execution_count": 25,
   "id": "24b3cfd8",
   "metadata": {},
   "outputs": [
    {
     "data": {
      "image/png": "[encoded data removed]",
      "text/plain": [
       "<Figure size 640x480 with 1 Axes>"
      ]
     },
     "metadata": {},
     "output_type": "display_data"
    }
   ],
   "source": [
    "plt.plot(hist.history['loss'])\n",
    "plt.title('Training model loss')\n",
    "plt.ylabel('loss')\n",
    "plt.xlabel('epoch')\n",
    "plt.legend(['train'],loc='upper left')\n",
    "plt.show()"
   ]
  },
  {
   "cell_type": "code",
   "execution_count": 26,
   "id": "1a0d3740",
   "metadata": {},
   "outputs": [
    {
     "data": {
      "text/plain": [
       "(192, 60, 1)"
      ]
     },
     "execution_count": 26,
     "metadata": {},
     "output_type": "execute_result"
    }
   ],
   "source": [
    "testData = pd.read_csv('Google_test_data.csv')\n",
    "testData[\"Close\"]=pd.to_numeric(testData.Close,errors='coerce')\n",
    "testData=testData.dropna()\n",
    "testData = testData.iloc[:,4:5]\n",
    "y_test =testData.iloc[60:,0:].values\n",
    "\n",
    "inputClosing = testData.iloc[:,0:].values\n",
    "inputClosing_scaled = sc.transform(inputClosing)\n",
    "inputClosing_scaled.shape\n",
    "X_test =[]\n",
    "length = len(testData)\n",
    "timestep = 60\n",
    "for i in range(timestep,length):\n",
    "    X_test.append(inputClosing_scaled[i-timestep:i,0])\n",
    "X_test = np.array(X_test)\n",
    "X_test = np.reshape(X_test,(X_test.shape[0],X_test.shape[1],1))\n",
    "X_test.shape\n"
   ]
  },
  {
   "cell_type": "code",
   "execution_count": 28,
   "id": "fdcfec99",
   "metadata": {},
   "outputs": [
    {
     "name": "stdout",
     "output_type": "stream",
     "text": [
      "6/6 [==============================] - 0s 81ms/step\n"
     ]
    },
    {
     "data": {
      "text/plain": [
       "array([[1.1402035],\n",
       "       [1.1722213],\n",
       "       [1.2408224],\n",
       "       [1.2173511],\n",
       "       [1.1816521],\n",
       "       [1.1352308],\n",
       "       [1.1407249],\n",
       "       [1.1623135],\n",
       "       [1.1997068],\n",
       "       [1.1893075],\n",
       "       [1.1081967],\n",
       "       [1.1185994],\n",
       "       [1.1467879],\n",
       "       [1.1274037],\n",
       "       [1.1640614],\n",
       "       [1.1563765],\n",
       "       [1.2218533],\n",
       "       [1.2218814],\n",
       "       [1.2268175],\n",
       "       [1.2473392],\n",
       "       [1.1439599],\n",
       "       [1.1929228],\n",
       "       [1.1463349],\n",
       "       [1.1570914],\n",
       "       [1.1798759],\n",
       "       [1.1977574],\n",
       "       [1.1876502],\n",
       "       [1.1467924],\n",
       "       [1.1022669],\n",
       "       [1.12785  ],\n",
       "       [1.1259797],\n",
       "       [1.1019945],\n",
       "       [1.0481323],\n",
       "       [1.0384246],\n",
       "       [1.1388897],\n",
       "       [1.1608262],\n",
       "       [1.1366246],\n",
       "       [1.125684 ],\n",
       "       [1.1451676],\n",
       "       [1.0995742],\n",
       "       [1.1918616],\n",
       "       [1.1961045],\n",
       "       [1.2036269],\n",
       "       [1.197083 ],\n",
       "       [1.1907433],\n",
       "       [1.171474 ],\n",
       "       [1.155099 ],\n",
       "       [1.215863 ],\n",
       "       [1.2229842],\n",
       "       [1.2319298],\n",
       "       [1.2409749],\n",
       "       [1.1870527],\n",
       "       [1.2036868],\n",
       "       [1.206516 ],\n",
       "       [1.2392855],\n",
       "       [1.1979146],\n",
       "       [1.181247 ],\n",
       "       [1.2343211],\n",
       "       [1.2806727],\n",
       "       [1.2596658],\n",
       "       [1.2957811],\n",
       "       [1.313854 ],\n",
       "       [1.2504874],\n",
       "       [1.2354422],\n",
       "       [1.2428471],\n",
       "       [1.2504807],\n",
       "       [1.2979031],\n",
       "       [1.2846181],\n",
       "       [1.2812458],\n",
       "       [1.2636521],\n",
       "       [1.2775958],\n",
       "       [1.2696836],\n",
       "       [1.2406237],\n",
       "       [1.271668 ],\n",
       "       [1.2679431],\n",
       "       [1.2768478],\n",
       "       [1.2745459],\n",
       "       [1.2802513],\n",
       "       [1.317634 ],\n",
       "       [1.3220944],\n",
       "       [1.3444337],\n",
       "       [1.3291069],\n",
       "       [1.3050301],\n",
       "       [1.3152078],\n",
       "       [1.3830168],\n",
       "       [1.3996134],\n",
       "       [1.3855021],\n",
       "       [1.3689573],\n",
       "       [1.3766975],\n",
       "       [1.3816156],\n",
       "       [1.4131405],\n",
       "       [1.4516811],\n",
       "       [1.4462314],\n",
       "       [1.3856344],\n",
       "       [1.3882427],\n",
       "       [1.3847604],\n",
       "       [1.3708811],\n",
       "       [1.3686227],\n",
       "       [1.3782535],\n",
       "       [1.4129997],\n",
       "       [1.4069144],\n",
       "       [1.410985 ],\n",
       "       [1.4248228],\n",
       "       [1.4037211],\n",
       "       [1.4071357],\n",
       "       [1.3983066],\n",
       "       [1.4159607],\n",
       "       [1.4166689],\n",
       "       [1.4410205],\n",
       "       [1.435042 ],\n",
       "       [1.4455035],\n",
       "       [1.4594982],\n",
       "       [1.453139 ],\n",
       "       [1.4816706],\n",
       "       [1.5027455],\n",
       "       [1.4711595],\n",
       "       [1.5012796],\n",
       "       [1.5112684],\n",
       "       [1.5385647],\n",
       "       [1.2929964],\n",
       "       [1.3752615],\n",
       "       [1.3750331],\n",
       "       [1.4255854],\n",
       "       [1.4064741],\n",
       "       [1.3623114],\n",
       "       [1.3523859],\n",
       "       [1.3502781],\n",
       "       [1.357677 ],\n",
       "       [1.2914162],\n",
       "       [1.2864501],\n",
       "       [1.3739581],\n",
       "       [1.3822682],\n",
       "       [1.333462 ],\n",
       "       [1.2936915],\n",
       "       [1.3330864],\n",
       "       [1.3366644],\n",
       "       [1.3153104],\n",
       "       [1.304385 ],\n",
       "       [1.3093808],\n",
       "       [1.2756934],\n",
       "       [1.2856383],\n",
       "       [1.2583845],\n",
       "       [1.1338224],\n",
       "       [1.1815066],\n",
       "       [1.1713573],\n",
       "       [1.1732459],\n",
       "       [1.2034875],\n",
       "       [1.220665 ],\n",
       "       [1.2082791],\n",
       "       [1.200469 ],\n",
       "       [1.2227248],\n",
       "       [1.2180493],\n",
       "       [1.2326684],\n",
       "       [1.2528329],\n",
       "       [1.2485026],\n",
       "       [1.2649524],\n",
       "       [1.2825636],\n",
       "       [1.267804 ],\n",
       "       [1.2149336],\n",
       "       [1.215602 ],\n",
       "       [1.2169104],\n",
       "       [1.2288653],\n",
       "       [1.2560407],\n",
       "       [1.271823 ],\n",
       "       [1.281393 ],\n",
       "       [1.2931354],\n",
       "       [1.2602344],\n",
       "       [1.2844515],\n",
       "       [1.3151593],\n",
       "       [1.317807 ],\n",
       "       [1.3161399],\n",
       "       [1.3265605],\n",
       "       [1.3319875],\n",
       "       [1.3177936],\n",
       "       [1.3229549],\n",
       "       [1.2931598],\n",
       "       [1.3179381],\n",
       "       [1.3305823],\n",
       "       [1.3091636],\n",
       "       [1.2997597],\n",
       "       [1.5111105],\n",
       "       [1.4283199],\n",
       "       [1.406201 ],\n",
       "       [1.4062601],\n",
       "       [1.411413 ],\n",
       "       [1.3938062],\n",
       "       [1.3214865],\n",
       "       [1.3876197],\n",
       "       [1.3826463],\n",
       "       [1.4357042],\n",
       "       [1.372812 ],\n",
       "       [1.3574877]], dtype=float32)"
      ]
     },
     "execution_count": 28,
     "metadata": {},
     "output_type": "execute_result"
    }
   ],
   "source": [
    "y_pred = model.predict(X_test)\n",
    "y_pred"
   ]
  },
  {
   "cell_type": "code",
   "execution_count": 29,
   "id": "c9c643fd",
   "metadata": {},
   "outputs": [],
   "source": [
    "predicted_price = sc.inverse_transform(y_pred)"
   ]
  },
  {
   "cell_type": "code",
   "execution_count": 30,
   "id": "237107f9",
   "metadata": {},
   "outputs": [
    {
     "data": {
      "image/png": "[encoded data removed]",
      "text/plain": [
       "<Figure size 640x480 with 1 Axes>"
      ]
     },
     "metadata": {},
     "output_type": "display_data"
    }
   ],
   "source": [
    "plt.plot(y_test,color='red',label ='Actual Stock Price')\n",
    "plt.plot(predicted_price, color='green',label ='Predicted Stock Price')\n",
    "plt.title('Google stock price prediction')\n",
    "plt.xlabel('Time')\n",
    "plt.ylabel('Stock Price')\n",
    "plt.legend()\n",
    "plt.show()"
   ]
  },
  {
   "cell_type": "code",
   "execution_count": null,
   "id": "dc72fa1e",
   "metadata": {},
   "outputs": [],
   "source": []
  }
 ],
 "metadata": {
  "kernelspec": {
   "display_name": "Python 3 (ipykernel)",
   "language": "python",
   "name": "python3"
  },
  "language_info": {
   "codemirror_mode": {
    "name": "ipython",
    "version": 3
   },
   "file_extension": ".py",
   "mimetype": "text/x-python",
   "name": "python",
   "nbconvert_exporter": "python",
   "pygments_lexer": "ipython3",
   "version": "3.9.13"
  }
 },
 "nbformat": 4,
 "nbformat_minor": 5
}
